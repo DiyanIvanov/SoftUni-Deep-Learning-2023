{
 "cells": [
  {
   "cell_type": "markdown",
   "id": "10e912c2",
   "metadata": {},
   "source": [
    "# <center>Neural Network model without using keras</center>"
   ]
  },
  {
   "cell_type": "code",
   "execution_count": 1,
   "id": "acb94db5",
   "metadata": {
    "tags": []
   },
   "outputs": [],
   "source": [
    "%matplotlib inline"
   ]
  },
  {
   "cell_type": "code",
   "execution_count": 2,
   "id": "e14113b2",
   "metadata": {
    "tags": []
   },
   "outputs": [],
   "source": [
    "import warnings\n",
    "warnings.filterwarnings('ignore')"
   ]
  },
  {
   "cell_type": "code",
   "execution_count": 3,
   "id": "915d05b6",
   "metadata": {
    "tags": []
   },
   "outputs": [
    {
     "name": "stdout",
     "output_type": "stream",
     "text": [
      "WARNING:tensorflow:From C:\\Users\\coldy\\anaconda3\\envs\\dl\\Lib\\site-packages\\keras\\src\\losses.py:2976: The name tf.losses.sparse_softmax_cross_entropy is deprecated. Please use tf.compat.v1.losses.sparse_softmax_cross_entropy instead.\n",
      "\n"
     ]
    }
   ],
   "source": [
    "import tensorflow as tf\n",
    "import pandas as pd\n",
    "import numpy as np\n",
    "import matplotlib.pyplot as plt\n",
    "\n",
    "from sklearn.preprocessing import scale, OneHotEncoder\n",
    "from sklearn.model_selection import train_test_split"
   ]
  },
  {
   "cell_type": "code",
   "execution_count": 4,
   "id": "cdbf8100",
   "metadata": {
    "tags": []
   },
   "outputs": [],
   "source": [
    "data_train = pd.read_csv('data/train.csv')\n",
    "X = data_train.drop(['label'], axis=1)\n",
    "X = scale(X, axis=1)\n",
    "\n",
    "o = OneHotEncoder(categories=[np.arange(10)])\n",
    "y = o.fit_transform(data_train[['label']]).toarray()\n",
    "\n",
    "X_train, X_test, y_train, y_test = train_test_split(X, y)"
   ]
  },
  {
   "cell_type": "code",
   "execution_count": 5,
   "id": "7133a8ed",
   "metadata": {
    "tags": []
   },
   "outputs": [
    {
     "data": {
      "text/plain": [
       "((31500, 784), (31500, 10), (10500, 784), (10500, 10))"
      ]
     },
     "execution_count": 5,
     "metadata": {},
     "output_type": "execute_result"
    }
   ],
   "source": [
    "X_train.shape, y_train.shape, X_test.shape, y_test.shape"
   ]
  },
  {
   "cell_type": "code",
   "execution_count": 6,
   "id": "1503a089",
   "metadata": {
    "tags": []
   },
   "outputs": [],
   "source": [
    "class NormalLayer(tf.Module):\n",
    "    \n",
    "    def __init__(self, input_size, output_size, **kwargs):\n",
    "        super().__init__(**kwargs)\n",
    "        self.input_size = input_size\n",
    "        self.output_size = output_size\n",
    "        \n",
    "        self.w = tf.Variable(tf.random.normal([input_size, output_size]) * tf.sqrt(2 / (input_size + output_size)), name='w')\n",
    "        self.b = tf.Variable(0.0,name='b')\n",
    "        \n",
    "    def __call__(self, X):\n",
    "        \"\"\" \n",
    "        ReLu activation function\n",
    "        \"\"\"\n",
    "        return tf.maximum(0.0, X @ self.w + self.b)"
   ]
  },
  {
   "cell_type": "code",
   "execution_count": 7,
   "id": "562c2648",
   "metadata": {
    "tags": []
   },
   "outputs": [],
   "source": [
    "class FinalLayer(tf.Module):\n",
    "    \n",
    "    def __init__(self, input_size, output_size, **kwargs):\n",
    "        super().__init__(**kwargs)\n",
    "        self.input_size = input_size\n",
    "        self.output_size = output_size\n",
    "        \n",
    "        self.w = tf.Variable(tf.random.normal([input_size, output_size]) * tf.sqrt(2 / (input_size + output_size)), name='w')\n",
    "        self.b = tf.Variable(0.0,name='b')\n",
    "        \n",
    "    def __call__(self, X):  \n",
    "        return tf.nn.softmax(X @ self.w + self.b)"
   ]
  },
  {
   "cell_type": "code",
   "execution_count": 8,
   "id": "50c8dd65",
   "metadata": {
    "tags": []
   },
   "outputs": [],
   "source": [
    "class NNModel(tf.Module):\n",
    "    \n",
    "    def __init__(self, layers, **kwargs):\n",
    "        super().__init__(**kwargs)\n",
    "    \n",
    "        self.layers = layers\n",
    "        self.training_loss= []\n",
    "        self.testing_loss = []\n",
    "        \n",
    "    def train(self, X_tr, y_tr, X_ts, y_ts, learning_rate, epoch):\n",
    "        \n",
    "        for i in range(epoch):\n",
    "            \n",
    "            with tf.GradientTape(persistent=True) as t:\n",
    "                current_loss = self.loss(y_tr, self.predict(X_tr))\n",
    "                \n",
    "            gradients = t.gradient(current_loss, self.trainable_variables)\n",
    "            \n",
    "            for trainable_variable, gradient in zip(self.trainable_variables, gradients):\n",
    "                trainable_variable.assign_sub(learning_rate * gradient)\n",
    "            \n",
    "            train_loss = self.loss(y_tr, self.predict(X_tr))\n",
    "            test_loss =  self.loss(y_ts, self.predict(X_ts))\n",
    "            \n",
    "            # if (i + 1) % 10 == 0 or i == 0:\n",
    "            self.training_loss.append(train_loss.numpy())\n",
    "            self.testing_loss.append(test_loss.numpy())\n",
    "            # print(f\"Epoch {i + 1} Training loss = {train_loss.numpy()} Test loss = {test_loss.numpy()}\")\n",
    "            \n",
    "    def loss(self, y, y_pred):\n",
    "        return -tf.reduce_sum(tf.reduce_mean(y * tf.math.log(y_pred + 1e-12), axis=0))\n",
    "\n",
    "    def predict(self, X):\n",
    "        pred = X\n",
    "        for layer in self.layers:\n",
    "            pred = layer(pred)\n",
    "        return pred\n",
    "    \n",
    "    def plot(self):\n",
    "        plt.plot(self.training_loss)\n",
    "        plt.plot(self.testing_loss)\n",
    "        plt.legend(['Train', 'Test'])\n",
    "        plt.title('Train vs Test loss')\n",
    "        plt.ylabel('Loss')\n",
    "        plt.xlabel('Epoch')\n",
    "        plt.show()\n",
    "        return 0"
   ]
  },
  {
   "cell_type": "code",
   "execution_count": 9,
   "id": "556d20e7",
   "metadata": {
    "tags": []
   },
   "outputs": [],
   "source": [
    "model = NNModel([\n",
    "    NormalLayer(784, 500),\n",
    "    NormalLayer(500, 500),\n",
    "    NormalLayer(500, 400),\n",
    "    FinalLayer(400, 10)\n",
    "])"
   ]
  },
  {
   "cell_type": "code",
   "execution_count": 12,
   "id": "abbbb5ca",
   "metadata": {
    "tags": []
   },
   "outputs": [],
   "source": [
    "model.train(X_train, y_train, X_test, y_test, learning_rate=0.3, epoch=10)"
   ]
  },
  {
   "cell_type": "code",
   "execution_count": 13,
   "id": "163fe3f1",
   "metadata": {
    "tags": []
   },
   "outputs": [
    {
     "data": {
      "image/png": "[encoded data removed]",
      "text/plain": [
       "<Figure size 640x480 with 1 Axes>"
      ]
     },
     "metadata": {},
     "output_type": "display_data"
    },
    {
     "data": {
      "text/plain": [
       "0"
      ]
     },
     "execution_count": 13,
     "metadata": {},
     "output_type": "execute_result"
    }
   ],
   "source": [
    "model.plot()"
   ]
  },
  {
   "cell_type": "code",
   "execution_count": null,
   "id": "5eb0e3c4-96b4-4042-8d64-ca20bde9a8a1",
   "metadata": {},
   "outputs": [],
   "source": []
  }
 ],
 "metadata": {
  "kernelspec": {
   "display_name": "Python 3 (ipykernel)",
   "language": "python",
   "name": "python3"
  },
  "language_info": {
   "codemirror_mode": {
    "name": "ipython",
    "version": 3
   },
   "file_extension": ".py",
   "mimetype": "text/x-python",
   "name": "python",
   "nbconvert_exporter": "python",
   "pygments_lexer": "ipython3",
   "version": "3.11.5"
  }
 },
 "nbformat": 4,
 "nbformat_minor": 5
}
